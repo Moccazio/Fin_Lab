{
 "cells": [
  {
   "cell_type": "markdown",
   "metadata": {},
   "source": [
    "# Modern Portfolio Theory\n",
    "\n",
    "## Higher Dimensional Efficient Frontier"
   ]
  },
  {
   "cell_type": "code",
   "execution_count": 19,
   "metadata": {},
   "outputs": [],
   "source": [
    "import pandas as pd\n",
    "import datetime\n",
    "import matplotlib.pyplot as plt\n",
    "import numpy as np\n",
    "import seaborn as sns\n",
    "%matplotlib widget\n",
    "sns.set(palette = 'bright',color_codes=True)\n",
    "from mpl_toolkits.mplot3d import Axes3D\n",
    "\n",
    "start = datetime.datetime(2015,1,1)\n",
    "end = datetime.date.today()\n",
    "\n",
    "import sys\n",
    "sys.path.insert(0, '../../scripts/')\n",
    "\n",
    "from database import Stock\n",
    "tickers = ['TTWO', '7CD.F', 'GME']"
   ]
  },
  {
   "cell_type": "code",
   "execution_count": 20,
   "metadata": {},
   "outputs": [],
   "source": [
    "tmp_ = dict()\n",
    "\n",
    "for tic in tickers:\n",
    "    stk = Stock(tic, start, end).df\n",
    "    tmp_[tic] = stk[\"Close\"]\n",
    "stocks = pd.DataFrame(tmp_)    "
   ]
  },
  {
   "cell_type": "code",
   "execution_count": 21,
   "metadata": {},
   "outputs": [
    {
     "data": {
      "text/html": [
       "<div>\n",
       "<style scoped>\n",
       "    .dataframe tbody tr th:only-of-type {\n",
       "        vertical-align: middle;\n",
       "    }\n",
       "\n",
       "    .dataframe tbody tr th {\n",
       "        vertical-align: top;\n",
       "    }\n",
       "\n",
       "    .dataframe thead th {\n",
       "        text-align: right;\n",
       "    }\n",
       "</style>\n",
       "<table border=\"1\" class=\"dataframe\">\n",
       "  <thead>\n",
       "    <tr style=\"text-align: right;\">\n",
       "      <th></th>\n",
       "      <th>TTWO</th>\n",
       "      <th>7CD.F</th>\n",
       "      <th>GME</th>\n",
       "    </tr>\n",
       "    <tr>\n",
       "      <th>Date</th>\n",
       "      <th></th>\n",
       "      <th></th>\n",
       "      <th></th>\n",
       "    </tr>\n",
       "  </thead>\n",
       "  <tbody>\n",
       "    <tr>\n",
       "      <th>2018-06-19</th>\n",
       "      <td>-0.023982</td>\n",
       "      <td>-0.075941</td>\n",
       "      <td>0.035165</td>\n",
       "    </tr>\n",
       "    <tr>\n",
       "      <th>2018-06-20</th>\n",
       "      <td>0.001526</td>\n",
       "      <td>-0.005043</td>\n",
       "      <td>-0.002075</td>\n",
       "    </tr>\n",
       "    <tr>\n",
       "      <th>2018-06-21</th>\n",
       "      <td>-0.012878</td>\n",
       "      <td>0.002657</td>\n",
       "      <td>-0.011843</td>\n",
       "    </tr>\n",
       "    <tr>\n",
       "      <th>2018-06-22</th>\n",
       "      <td>0.003941</td>\n",
       "      <td>-0.030175</td>\n",
       "      <td>-0.000701</td>\n",
       "    </tr>\n",
       "    <tr>\n",
       "      <th>2018-06-25</th>\n",
       "      <td>-0.001968</td>\n",
       "      <td>0.045973</td>\n",
       "      <td>-0.026289</td>\n",
       "    </tr>\n",
       "    <tr>\n",
       "      <th>...</th>\n",
       "      <td>...</td>\n",
       "      <td>...</td>\n",
       "      <td>...</td>\n",
       "    </tr>\n",
       "    <tr>\n",
       "      <th>2021-02-08</th>\n",
       "      <td>0.027804</td>\n",
       "      <td>-0.036795</td>\n",
       "      <td>-0.060938</td>\n",
       "    </tr>\n",
       "    <tr>\n",
       "      <th>2021-02-09</th>\n",
       "      <td>-0.063021</td>\n",
       "      <td>-0.046415</td>\n",
       "      <td>-0.176141</td>\n",
       "    </tr>\n",
       "    <tr>\n",
       "      <th>2021-02-10</th>\n",
       "      <td>-0.002449</td>\n",
       "      <td>-0.013619</td>\n",
       "      <td>0.017536</td>\n",
       "    </tr>\n",
       "    <tr>\n",
       "      <th>2021-02-11</th>\n",
       "      <td>-0.013604</td>\n",
       "      <td>-0.005029</td>\n",
       "      <td>-0.001955</td>\n",
       "    </tr>\n",
       "    <tr>\n",
       "      <th>2021-02-12</th>\n",
       "      <td>0.013804</td>\n",
       "      <td>-0.007422</td>\n",
       "      <td>0.025122</td>\n",
       "    </tr>\n",
       "  </tbody>\n",
       "</table>\n",
       "<p>618 rows × 3 columns</p>\n",
       "</div>"
      ],
      "text/plain": [
       "                TTWO     7CD.F       GME\n",
       "Date                                    \n",
       "2018-06-19 -0.023982 -0.075941  0.035165\n",
       "2018-06-20  0.001526 -0.005043 -0.002075\n",
       "2018-06-21 -0.012878  0.002657 -0.011843\n",
       "2018-06-22  0.003941 -0.030175 -0.000701\n",
       "2018-06-25 -0.001968  0.045973 -0.026289\n",
       "...              ...       ...       ...\n",
       "2021-02-08  0.027804 -0.036795 -0.060938\n",
       "2021-02-09 -0.063021 -0.046415 -0.176141\n",
       "2021-02-10 -0.002449 -0.013619  0.017536\n",
       "2021-02-11 -0.013604 -0.005029 -0.001955\n",
       "2021-02-12  0.013804 -0.007422  0.025122\n",
       "\n",
       "[618 rows x 3 columns]"
      ]
     },
     "execution_count": 21,
     "metadata": {},
     "output_type": "execute_result"
    }
   ],
   "source": [
    "log_ret = np.log(stocks/stocks.shift(1))\n",
    "log_ret = log_ret.dropna()\n",
    "log_ret"
   ]
  },
  {
   "cell_type": "code",
   "execution_count": 22,
   "metadata": {},
   "outputs": [],
   "source": [
    "def coskew(df):\n",
    "    \n",
    "    # Number of stocks\n",
    "    num = len(df.columns)\n",
    "    \n",
    "    # Two dimionsal matrix for tensor product \n",
    "    mtx = np.zeros(shape = (len(df), num**2))\n",
    "    \n",
    "    v = df.values\n",
    "    means = v.mean(0,keepdims=True)\n",
    "    v1 = (v-means).T\n",
    "    \n",
    "    for i in range(num):\n",
    "        for j in range(num):\n",
    "                vals = v1[i]*v1[j]\n",
    "                mtx[:,(i*num)+j] = vals/float((len(df)-1)*df.iloc[:,i].std()*df.iloc[:,j].std())\n",
    "    \n",
    "    #coskewness matrix\n",
    "    m3 = np.dot(v1,mtx)\n",
    "    \n",
    "    #Normalize by dividing by standard deviation\n",
    "    for i in range(num**2):\n",
    "        use = i%num\n",
    "        m3[:,i] = m3[:,i]/float(df.iloc[:,use].std())\n",
    "    \n",
    "    return m3\n",
    "\n",
    "m3 = coskew(log_ret)"
   ]
  },
  {
   "cell_type": "code",
   "execution_count": 23,
   "metadata": {},
   "outputs": [],
   "source": [
    "def cokurt(df):\n",
    "    # Number of stocks\n",
    "    num = len(df.columns)\n",
    "    \n",
    "    #First Tensor Product Matrix\n",
    "    mtx1 = np.zeros(shape = (len(df), num**2))\n",
    "    \n",
    "    #Second Tensor Product Matrix\n",
    "    mtx2 = np.zeros(shape = (len(df), num**3))\n",
    "    \n",
    "    v = df.values\n",
    "    means = v.mean(0,keepdims=True)\n",
    "    v1 = (v-means).T\n",
    "\n",
    "    for k in range(num):\n",
    "        for i in range(num):\n",
    "            for j in range(num):\n",
    "                    vals = v1[i]*v1[j]*v1[k]\n",
    "                    mtx2[:,(k*(num**2))+(i*num)+j] = vals/float((len(df)-1)*df.iloc[:,i].std()*\\\n",
    "                                                                df.iloc[:,j].std()*df.iloc[:,k].std())\n",
    "\n",
    "    m4 = np.dot(v1,mtx2)\n",
    "    for i in range(num**3):\n",
    "        use = i%num\n",
    "        m4[:,i] = m4[:,i]/float(df.iloc[:,use].std())\n",
    "        \n",
    "    return m4\n",
    "    \n",
    "m4 = cokurt(log_ret)"
   ]
  },
  {
   "cell_type": "code",
   "execution_count": 24,
   "metadata": {},
   "outputs": [
    {
     "data": {
      "application/vnd.jupyter.widget-view+json": {
       "model_id": "4e5b8952dcd44aa1880d25d324b8724c",
       "version_major": 2,
       "version_minor": 0
      },
      "text/plain": [
       "FigureCanvasNbAgg()"
      ]
     },
     "metadata": {},
     "output_type": "display_data"
    }
   ],
   "source": [
    "def ef(stocks, log_ret, m3, m4):    \n",
    "    \n",
    "    np.random.seed(10)\n",
    "    trials = 10000\n",
    "    all_weights = np.zeros((trials, len(stocks.columns)))\n",
    "    \n",
    "    ret_arr = np.zeros(trials)\n",
    "    vol_arr = np.zeros(trials)\n",
    "    coskew_arr = np.zeros(trials)\n",
    "    cokurt_arr = np.zeros(trials)\n",
    "\n",
    "    for i in range(trials):\n",
    "        \n",
    "        # Get random weights and store in weight array\n",
    "        weights = np.array(np.random.random(len(stocks.columns)))\n",
    "        weights = weights/np.sum(weights)\n",
    "        all_weights[i,:] = weights\n",
    "\n",
    "        # Expected return\n",
    "        ret_arr[i] = np.sum( (log_ret.mean() * weights * 252))\n",
    "\n",
    "        # Volatility\n",
    "        vol_arr[i] = np.sqrt(np.dot(weights.T, np.dot(log_ret.cov()*252, weights)))\n",
    "\n",
    "        # Coskew\n",
    "        coskew_arr[i] = np.dot(weights.T, np.dot(m3,np.kron(weights,weights)))\n",
    "        \n",
    "        #Cokurtosis\n",
    "        cokurt_arr[i] = np.dot(weights.T, np.dot(m4,np.kron(weights,np.kron(weights,weights))))\n",
    "    \n",
    "    fig = plt.figure()\n",
    "    ax = plt.axes(projection='3d')\n",
    "    a = ax.scatter(vol_arr, cokurt_arr, ret_arr, c=coskew_arr, cmap='winter')\n",
    "    a = fig.colorbar(a, label = 'Skew')\n",
    "    ax.set_xlabel('Volatility')\n",
    "    ax.set_ylabel('Kurtosis')\n",
    "    ax.set_zlabel('Return')\n",
    "\n",
    "    return vol_arr, ret_arr, cokurt_arr, coskew_arr\n",
    "    \n",
    "vol_arr, ret_arr, cokurt_arr, coskew_arr = ef(stocks,log_ret, m3, m4)"
   ]
  },
  {
   "cell_type": "code",
   "execution_count": 25,
   "metadata": {},
   "outputs": [
    {
     "data": {
      "application/vnd.jupyter.widget-view+json": {
       "model_id": "add7cd2f17da4ad188392a2e6d4e1c4f",
       "version_major": 2,
       "version_minor": 0
      },
      "text/plain": [
       "FigureCanvasNbAgg()"
      ]
     },
     "metadata": {},
     "output_type": "display_data"
    },
    {
     "data": {
      "application/vnd.jupyter.widget-view+json": {
       "model_id": "33ddeca23a1444ebacbce8276ee4609f",
       "version_major": 2,
       "version_minor": 0
      },
      "text/plain": [
       "FigureCanvasNbAgg()"
      ]
     },
     "metadata": {},
     "output_type": "display_data"
    },
    {
     "data": {
      "text/plain": [
       "Text(0, 0.5, 'Return')"
      ]
     },
     "execution_count": 25,
     "metadata": {},
     "output_type": "execute_result"
    }
   ],
   "source": [
    "#Plot EF with skew cmap\n",
    "plt.figure()\n",
    "plt.scatter(vol_arr, ret_arr, c=coskew_arr, cmap='winter')\n",
    "plt.colorbar(label='Skew')\n",
    "plt.xlabel('Volatility')\n",
    "plt.ylabel('Return')\n",
    "\n",
    "#Plot EF with Kurt cmap\n",
    "plt.figure()\n",
    "plt.scatter(vol_arr, ret_arr, c=cokurt_arr, cmap='winter')\n",
    "plt.colorbar(label='Kurtosis')\n",
    "plt.xlabel('Volatility')\n",
    "plt.ylabel('Return')"
   ]
  },
  {
   "cell_type": "code",
   "execution_count": null,
   "metadata": {},
   "outputs": [],
   "source": []
  }
 ],
 "metadata": {
  "kernelspec": {
   "display_name": "Python 3",
   "language": "python",
   "name": "python3"
  },
  "language_info": {
   "codemirror_mode": {
    "name": "ipython",
    "version": 3
   },
   "file_extension": ".py",
   "mimetype": "text/x-python",
   "name": "python",
   "nbconvert_exporter": "python",
   "pygments_lexer": "ipython3",
   "version": "3.6.12"
  }
 },
 "nbformat": 4,
 "nbformat_minor": 2
}
