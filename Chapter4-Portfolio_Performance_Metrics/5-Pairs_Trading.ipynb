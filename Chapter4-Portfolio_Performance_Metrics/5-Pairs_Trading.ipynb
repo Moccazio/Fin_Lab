{
 "cells": [
  {
   "cell_type": "code",
   "execution_count": 33,
   "metadata": {},
   "outputs": [
    {
     "name": "stdout",
     "output_type": "stream",
     "text": [
      "Stat                 ttwo        7cdf        gme         atvi        ccoey       tcehy       ea\n",
      "-------------------  ----------  ----------  ----------  ----------  ----------  ----------  ----------\n",
      "Start                2019-02-01  2019-02-01  2019-02-01  2019-02-01  2019-02-01  2019-02-01  2019-02-01\n",
      "End                  2021-02-19  2021-02-19  2021-02-19  2021-02-19  2021-02-19  2021-02-19  2021-02-19\n",
      "Risk-free rate       0.00%       0.00%       0.00%       0.00%       0.00%       0.00%       0.00%\n",
      "\n",
      "Total Return         85.67%      35.57%      273.37%     122.30%     205.13%     116.94%     60.21%\n",
      "Daily Sharpe         1.01        0.55        1.13        1.26        1.49        1.26        0.83\n",
      "Daily Sortino        1.55        0.90        2.56        2.12        2.54        2.13        1.39\n",
      "CAGR                 35.22%      16.00%      90.11%      47.63%      72.29%      45.89%      25.84%\n",
      "Max Drawdown         -25.38%     -48.55%     -88.32%     -19.14%     -24.68%     -21.41%     -23.39%\n",
      "Calmar Ratio         1.39        0.33        1.02        2.49        2.93        2.14        1.10\n",
      "\n",
      "MTD                  -2.79%      -12.24%     -87.51%     10.77%      0.12%       6.93%       1.92%\n",
      "3m                   17.68%      -27.71%     225.76%     32.75%      24.66%      27.03%      21.65%\n",
      "6m                   12.88%      -36.77%     759.96%     22.96%      35.27%      47.15%      3.02%\n",
      "YTD                  -5.57%      -1.57%      110.75%     10.07%      0.06%       33.16%      2.75%\n",
      "1Y                   71.62%      -23.45%     878.07%     57.62%      114.00%     79.99%      33.12%\n",
      "3Y (ann.)            35.22%      16.00%      90.11%      47.63%      72.29%      45.89%      25.84%\n",
      "5Y (ann.)            -           -           -           -           -           -           -\n",
      "10Y (ann.)           -           -           -           -           -           -           -\n",
      "Since Incep. (ann.)  35.22%      16.00%      90.11%      47.63%      72.29%      45.89%      25.84%\n",
      "\n",
      "Daily Sharpe         1.01        0.55        1.13        1.26        1.49        1.26        0.83\n",
      "Daily Sortino        1.55        0.90        2.56        2.12        2.54        2.13        1.39\n",
      "Daily Mean (ann.)    38.26%      29.00%      208.07%     46.91%      65.44%      45.14%      30.22%\n",
      "Daily Vol (ann.)     38.03%      52.31%      183.93%     37.24%      43.85%      35.73%      36.57%\n",
      "Daily Skew           -0.73       -0.33       4.61        -0.13       -0.05       -0.25       0.37\n",
      "Daily Kurt           4.98        3.04        49.33       3.01        2.78        1.47        8.44\n",
      "Best Day             9.66%       14.63%      134.84%     9.64%       11.43%      7.14%       16.05%\n",
      "Worst Day            -13.76%     -17.24%     -60.00%     -10.64%     -12.99%     -9.04%      -13.31%\n",
      "\n",
      "Monthly Sharpe       1.63        0.59        0.73        2.27        1.83        1.50        1.08\n",
      "Monthly Sortino      3.98        0.89        11.99       5.64        6.69        3.50        2.30\n",
      "Monthly Mean (ann.)  44.28%      23.46%      820.79%     47.20%      62.04%      45.26%      23.58%\n",
      "Monthly Vol (ann.)   27.12%      39.50%      1127.46%    20.81%      33.82%      30.11%      21.86%\n",
      "Monthly Skew         -0.07       -1.08       4.81        -0.38       0.70        0.21        -0.10\n",
      "Monthly Kurt         -0.31       2.13        23.36       0.12        -0.20       0.86        -0.80\n",
      "Best Month           17.52%      22.11%      1587.44%    15.22%      26.37%      24.53%      14.07%\n",
      "Worst Month          -13.77%     -30.25%     -87.51%     -10.04%     -10.67%     -14.96%     -8.65%\n",
      "\n",
      "Yearly Sharpe        0.60        -1.00       2.22        1.01        0.71        3.89        0.84\n",
      "Yearly Sortino       8.01        -1.00       inf         inf         inf         inf         inf\n",
      "Yearly Mean          31.54%      -5.40%      162.47%     33.31%      68.32%      40.53%      17.88%\n",
      "Yearly Vol           52.48%      5.41%       73.15%      32.87%      96.53%      10.43%      21.41%\n",
      "Yearly Skew          -           -           -           -           -           -           -\n",
      "Yearly Kurt          -           -           -           -           -           -           -\n",
      "Best Year            68.66%      -1.57%      214.19%     56.56%      136.58%     47.91%      33.02%\n",
      "Worst Year           -5.57%      -9.22%      110.75%     10.07%      0.06%       33.16%      2.75%\n",
      "\n",
      "Avg. Drawdown        -5.76%      -7.89%      -22.92%     -4.78%      -6.85%      -6.05%      -4.41%\n",
      "Avg. Drawdown Days   30.41       22.86       59.25       20.90       23.75       27.16       25.15\n",
      "Avg. Up Month        7.45%       7.21%       191.00%     6.94%       10.31%      8.63%       5.94%\n",
      "Avg. Down Month      -5.45%      -10.80%     -19.17%     -3.37%      -3.39%      -4.32%      -4.67%\n",
      "Win Year %           50.00%      0.00%       100.00%     100.00%     100.00%     100.00%     100.00%\n",
      "Win 12m %            100.00%     85.71%      64.29%      100.00%     100.00%     92.86%      92.86%\n"
     ]
    }
   ],
   "source": [
    "import ffn\n",
    "import warnings\n",
    "warnings.filterwarnings(\"ignore\")\n",
    "\n",
    "%matplotlib inline\n",
    "prices = ffn.get('TTWO, 7CD.F, GME, ATVI, CCOEY, TCEHY, EA', start='2019-02-01')\n",
    "#prices = ffn.get('pep,ko', start='2019-04-01')\n",
    "stats = prices.calc_stats()\n",
    "stats.display()"
   ]
  },
  {
   "cell_type": "code",
   "execution_count": 35,
   "metadata": {},
   "outputs": [
    {
     "name": "stdout",
     "output_type": "stream",
     "text": [
      "                ttwo      7cdf       gme      atvi     ccoey     tcehy  \\\n",
      "Date                                                                     \n",
      "2019-02-04  0.012863 -0.028161  0.011566  0.016736  0.088403  0.005648   \n",
      "2019-02-05  0.009313  0.027955  0.036939  0.022659 -0.049782  0.022242   \n",
      "2019-02-06 -0.137571 -0.036038 -0.023749 -0.101171  0.011029 -0.014945   \n",
      "2019-02-07  0.041716 -0.036697 -0.003475  0.022326 -0.047273 -0.020526   \n",
      "2019-02-08  0.007781  0.000000 -0.010462 -0.012511 -0.014313  0.007517   \n",
      "...              ...       ...       ...       ...       ...       ...   \n",
      "2021-02-12  0.013900 -0.007395  0.025440  0.005521 -0.042134  0.004154   \n",
      "2021-02-16 -0.020364  0.023366 -0.055153 -0.008188 -0.010654 -0.030272   \n",
      "2021-02-17  0.000715 -0.015553 -0.072107 -0.005925  0.015385  0.012591   \n",
      "2021-02-18  0.001531  0.011765 -0.114279 -0.000977 -0.043939 -0.016134   \n",
      "2021-02-19 -0.006982 -0.002326 -0.002458 -0.014181  0.017433 -0.002507   \n",
      "\n",
      "                  ea  \n",
      "Date                  \n",
      "2019-02-04 -0.030585  \n",
      "2019-02-05  0.046251  \n",
      "2019-02-06 -0.133052  \n",
      "2019-02-07  0.048498  \n",
      "2019-02-08  0.160523  \n",
      "...              ...  \n",
      "2021-02-12  0.002783  \n",
      "2021-02-16 -0.013267  \n",
      "2021-02-17  0.000343  \n",
      "2021-02-18  0.010835  \n",
      "2021-02-19 -0.009904  \n",
      "\n",
      "[504 rows x 7 columns]\n"
     ]
    },
    {
     "data": {
      "text/plain": [
       "ttwo     10.61%\n",
       "7cdf      3.11%\n",
       "gme       9.74%\n",
       "atvi     20.56%\n",
       "ccoey    32.86%\n",
       "tcehy    21.54%\n",
       "ea        1.58%\n",
       "dtype: object"
      ]
     },
     "execution_count": 35,
     "metadata": {},
     "output_type": "execute_result"
    }
   ],
   "source": [
    "returns = ffn.get('TTWO, 7CD.F, GME, ATVI, CCOEY, TCEHY, EA', start='2019-02-01').to_returns().dropna()\n",
    "print(returns)\n",
    "returns.calc_mean_var_weights().as_format('.2%')"
   ]
  },
  {
   "cell_type": "markdown",
   "metadata": {},
   "source": [
    "## Pairs Trading"
   ]
  },
  {
   "cell_type": "markdown",
   "metadata": {},
   "source": [
    "we are start with the lowest value of the total mean variance weights"
   ]
  },
  {
   "cell_type": "code",
   "execution_count": 37,
   "metadata": {},
   "outputs": [
    {
     "name": "stdout",
     "output_type": "stream",
     "text": [
      "                  ea      7cdf\n",
      "Date                          \n",
      "2019-02-04 -0.030585 -0.028161\n",
      "2019-02-05  0.046251  0.027955\n",
      "2019-02-06 -0.133052 -0.036038\n",
      "2019-02-07  0.048498 -0.036697\n",
      "2019-02-08  0.160523  0.000000\n",
      "...              ...       ...\n",
      "2021-02-12  0.002783 -0.007395\n",
      "2021-02-16 -0.013267  0.023366\n",
      "2021-02-17  0.000343 -0.015553\n",
      "2021-02-18  0.010835  0.011765\n",
      "2021-02-19 -0.009904 -0.002326\n",
      "\n",
      "[504 rows x 2 columns]\n"
     ]
    },
    {
     "data": {
      "text/plain": [
       "ea      68.02%\n",
       "7cdf    31.98%\n",
       "dtype: object"
      ]
     },
     "execution_count": 37,
     "metadata": {},
     "output_type": "execute_result"
    }
   ],
   "source": [
    "returns = ffn.get('EA, 7CD.F', start='2019-02-01').to_returns().dropna()\n",
    "print(returns)\n",
    "returns.calc_mean_var_weights().as_format('.2%')"
   ]
  },
  {
   "cell_type": "code",
   "execution_count": 38,
   "metadata": {},
   "outputs": [
    {
     "name": "stdout",
     "output_type": "stream",
     "text": [
      "                 gme      ttwo\n",
      "Date                          \n",
      "2019-02-04  0.011566  0.012863\n",
      "2019-02-05  0.036939  0.009313\n",
      "2019-02-06 -0.023749 -0.137571\n",
      "2019-02-07 -0.003475  0.041716\n",
      "2019-02-08 -0.010462  0.007781\n",
      "...              ...       ...\n",
      "2021-02-12  0.025440  0.013900\n",
      "2021-02-16 -0.055153 -0.020364\n",
      "2021-02-17 -0.072107  0.000715\n",
      "2021-02-18 -0.114279  0.001531\n",
      "2021-02-19 -0.002458 -0.006982\n",
      "\n",
      "[516 rows x 2 columns]\n"
     ]
    },
    {
     "data": {
      "text/plain": [
       "gme     48.44%\n",
       "ttwo    51.56%\n",
       "dtype: object"
      ]
     },
     "execution_count": 38,
     "metadata": {},
     "output_type": "execute_result"
    }
   ],
   "source": [
    "returns = ffn.get('GME, TTWO', start='2019-02-01').to_returns().dropna()\n",
    "print(returns)\n",
    "returns.calc_mean_var_weights().as_format('.2%')"
   ]
  },
  {
   "cell_type": "code",
   "execution_count": 39,
   "metadata": {},
   "outputs": [
    {
     "name": "stdout",
     "output_type": "stream",
     "text": [
      "               tcehy      atvi\n",
      "Date                          \n",
      "2019-02-04  0.005648  0.016736\n",
      "2019-02-05  0.022242  0.022659\n",
      "2019-02-06 -0.014945 -0.101171\n",
      "2019-02-07 -0.020526  0.022326\n",
      "2019-02-08  0.007517 -0.012511\n",
      "...              ...       ...\n",
      "2021-02-12  0.004154  0.005521\n",
      "2021-02-16 -0.030272 -0.008188\n",
      "2021-02-17  0.012591 -0.005925\n",
      "2021-02-18 -0.016134 -0.000977\n",
      "2021-02-19 -0.002507 -0.014181\n",
      "\n",
      "[516 rows x 2 columns]\n"
     ]
    },
    {
     "data": {
      "text/plain": [
       "tcehy    50.88%\n",
       "atvi     49.12%\n",
       "dtype: object"
      ]
     },
     "execution_count": 39,
     "metadata": {},
     "output_type": "execute_result"
    }
   ],
   "source": [
    "returns = ffn.get('TCEHY, ATVI', start='2019-02-01').to_returns().dropna()\n",
    "print(returns)\n",
    "returns.calc_mean_var_weights().as_format('.2%')"
   ]
  },
  {
   "cell_type": "markdown",
   "metadata": {},
   "source": [
    "and the end with the highst value and the lowest value pair"
   ]
  },
  {
   "cell_type": "code",
   "execution_count": 40,
   "metadata": {},
   "outputs": [
    {
     "name": "stdout",
     "output_type": "stream",
     "text": [
      "               ccoey        ea\n",
      "Date                          \n",
      "2019-02-04  0.088403 -0.030585\n",
      "2019-02-05 -0.049782  0.046251\n",
      "2019-02-06  0.011029 -0.133052\n",
      "2019-02-07 -0.047273  0.048498\n",
      "2019-02-08 -0.014313  0.160523\n",
      "...              ...       ...\n",
      "2021-02-12 -0.042134  0.002783\n",
      "2021-02-16 -0.010654 -0.013267\n",
      "2021-02-17  0.015385  0.000343\n",
      "2021-02-18 -0.043939  0.010835\n",
      "2021-02-19  0.017433 -0.009904\n",
      "\n",
      "[516 rows x 2 columns]\n"
     ]
    },
    {
     "data": {
      "text/plain": [
       "ccoey    65.98%\n",
       "ea       34.02%\n",
       "dtype: object"
      ]
     },
     "execution_count": 40,
     "metadata": {},
     "output_type": "execute_result"
    }
   ],
   "source": [
    "returns = ffn.get('CCOEY, EA', start='2019-02-01').to_returns().dropna()\n",
    "print(returns)\n",
    "returns.calc_mean_var_weights().as_format('.2%')"
   ]
  },
  {
   "cell_type": "code",
   "execution_count": null,
   "metadata": {},
   "outputs": [],
   "source": []
  }
 ],
 "metadata": {
  "kernelspec": {
   "display_name": "Python 3",
   "language": "python",
   "name": "python3"
  },
  "language_info": {
   "codemirror_mode": {
    "name": "ipython",
    "version": 3
   },
   "file_extension": ".py",
   "mimetype": "text/x-python",
   "name": "python",
   "nbconvert_exporter": "python",
   "pygments_lexer": "ipython3",
   "version": "3.6.12"
  }
 },
 "nbformat": 4,
 "nbformat_minor": 4
}
