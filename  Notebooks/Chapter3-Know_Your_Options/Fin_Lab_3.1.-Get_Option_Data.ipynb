{
 "cells": [
  {
   "cell_type": "markdown",
   "id": "proud-azerbaijan",
   "metadata": {},
   "source": [
    "# Option Data\n",
    "## Call & Put"
   ]
  },
  {
   "cell_type": "code",
   "execution_count": 1,
   "id": "sunrise-portugal",
   "metadata": {},
   "outputs": [],
   "source": [
    "%matplotlib inline\n",
    "from IPython.core.pylabtools import figsize\n",
    "figsize(10,6)\n",
    "import time\n",
    "\n",
    "import yfinance as yf\n",
    "from yfinance.utils import get_json\n",
    "from yfinance import download\n",
    "\n",
    "from pandas_datareader.data import Options\n",
    "import pandas as pd\n",
    "pd.options.display.float_format = '{:,.4f}'.format\n",
    "import numpy as np\n",
    "\n",
    "from tqdm import tqdm\n",
    "import warnings\n",
    "warnings.filterwarnings(\"ignore\")\n",
    "\n",
    "import bs4 as bs\n",
    "from bs4 import BeautifulSoup\n",
    "import requests"
   ]
  },
  {
   "cell_type": "code",
   "execution_count": 2,
   "id": "tribal-milan",
   "metadata": {},
   "outputs": [],
   "source": [
    "# Scrap sp500 tickers\n",
    "def save_sp500_tickers():\n",
    "\n",
    "    resp = requests.get('http://en.wikipedia.org/wiki/List_of_S%26P_500_companies')\n",
    "    soup = bs.BeautifulSoup(resp.text, 'html')\n",
    "    table = soup.find('table', {'class': 'wikitable sortable'})\n",
    "    tickers = []\n",
    "    for row in table.findAll('tr')[1:]:\n",
    "        ticker = row.findAll('td')[0].text\n",
    "        if not '.' in ticker:\n",
    "            tickers.append(ticker.replace('\\n',''))\n",
    "        \n",
    "    return tickers\n",
    "\n",
    "symbols = save_sp500_tickers()"
   ]
  },
  {
   "cell_type": "code",
   "execution_count": 39,
   "id": "legendary-beast",
   "metadata": {},
   "outputs": [
    {
     "name": "stderr",
     "output_type": "stream",
     "text": [
      "  0%|          | 0/10 [00:00<?, ?it/s]"
     ]
    },
    {
     "name": "stdout",
     "output_type": "stream",
     "text": [
      "--------------------------------------------------\n",
      "downloading MMM ...\n"
     ]
    },
    {
     "name": "stderr",
     "output_type": "stream",
     "text": [
      " 10%|█         | 1/10 [00:00<00:04,  2.14it/s]"
     ]
    },
    {
     "name": "stdout",
     "output_type": "stream",
     "text": [
      "MMM complete\n",
      "\n",
      "--------------------------------------------------\n",
      "downloading ABT ...\n"
     ]
    },
    {
     "name": "stderr",
     "output_type": "stream",
     "text": [
      " 20%|██        | 2/10 [00:00<00:03,  2.44it/s]"
     ]
    },
    {
     "name": "stdout",
     "output_type": "stream",
     "text": [
      "ABT complete\n",
      "\n",
      "--------------------------------------------------\n",
      "downloading ABBV ...\n"
     ]
    },
    {
     "name": "stderr",
     "output_type": "stream",
     "text": [
      " 30%|███       | 3/10 [00:01<00:02,  2.46it/s]"
     ]
    },
    {
     "name": "stdout",
     "output_type": "stream",
     "text": [
      "ABBV complete\n",
      "\n",
      "--------------------------------------------------\n",
      "downloading ABMD ...\n"
     ]
    },
    {
     "name": "stderr",
     "output_type": "stream",
     "text": [
      " 40%|████      | 4/10 [00:01<00:02,  2.36it/s]"
     ]
    },
    {
     "name": "stdout",
     "output_type": "stream",
     "text": [
      "ABMD complete\n",
      "\n",
      "--------------------------------------------------\n",
      "downloading ACN ...\n"
     ]
    },
    {
     "name": "stderr",
     "output_type": "stream",
     "text": [
      " 50%|█████     | 5/10 [00:02<00:02,  2.42it/s]"
     ]
    },
    {
     "name": "stdout",
     "output_type": "stream",
     "text": [
      "ACN complete\n",
      "\n",
      "--------------------------------------------------\n",
      "downloading ATVI ...\n"
     ]
    },
    {
     "name": "stderr",
     "output_type": "stream",
     "text": [
      " 60%|██████    | 6/10 [00:02<00:01,  2.42it/s]"
     ]
    },
    {
     "name": "stdout",
     "output_type": "stream",
     "text": [
      "ATVI complete\n",
      "\n",
      "--------------------------------------------------\n",
      "downloading ADBE ...\n"
     ]
    },
    {
     "name": "stderr",
     "output_type": "stream",
     "text": [
      " 70%|███████   | 7/10 [00:02<00:01,  2.44it/s]"
     ]
    },
    {
     "name": "stdout",
     "output_type": "stream",
     "text": [
      "ADBE complete\n",
      "\n",
      "--------------------------------------------------\n",
      "downloading AMD ...\n"
     ]
    },
    {
     "name": "stderr",
     "output_type": "stream",
     "text": [
      " 80%|████████  | 8/10 [00:03<00:00,  2.45it/s]"
     ]
    },
    {
     "name": "stdout",
     "output_type": "stream",
     "text": [
      "AMD complete\n",
      "\n",
      "--------------------------------------------------\n",
      "downloading AAP ...\n"
     ]
    },
    {
     "name": "stderr",
     "output_type": "stream",
     "text": [
      " 90%|█████████ | 9/10 [00:03<00:00,  2.41it/s]"
     ]
    },
    {
     "name": "stdout",
     "output_type": "stream",
     "text": [
      "AAP complete\n",
      "\n",
      "--------------------------------------------------\n",
      "downloading AES ...\n"
     ]
    },
    {
     "name": "stderr",
     "output_type": "stream",
     "text": [
      "100%|██████████| 10/10 [00:04<00:00,  2.39it/s]"
     ]
    },
    {
     "name": "stdout",
     "output_type": "stream",
     "text": [
      "AES complete\n",
      "\n"
     ]
    },
    {
     "name": "stderr",
     "output_type": "stream",
     "text": [
      "\n"
     ]
    }
   ],
   "source": [
    "# ------------------------------------------------------------------------------\n",
    "# run aggregation func\n",
    "# ------------------------------------------------------------------------------\n",
    "errors = []\n",
    "\n",
    "call_dict = {}\n",
    "put_dict = {}\n",
    "date_dict = {}\n",
    "\n",
    "for sym in tqdm(symbols[0:10]):\n",
    "    print('-'*50)\n",
    "    print('downloading {} ...'.format(sym))\n",
    "    try:\n",
    "        opt_sym = yf.Ticker(sym)\n",
    "        date_dict[sym] = opt_sym.options\n",
    "        date_long = opt_sym.options[-1]\n",
    "        #date_short = opt_sym.options[1]\n",
    "        opt = opt_sym.option_chain(date_long)\n",
    "        call_dict[sym] = opt.calls\n",
    "        put_dict[sym] = opt.puts\n",
    "    except Exception as e:\n",
    "        errors.append(sym)\n",
    "        print('{} error: {}'.format(sym, e))\n",
    "        continue\n",
    "    else:\n",
    "        print('{} complete'.format(sym))\n",
    "        print()"
   ]
  },
  {
   "cell_type": "code",
   "execution_count": null,
   "id": "practical-convert",
   "metadata": {},
   "outputs": [],
   "source": []
  },
  {
   "cell_type": "code",
   "execution_count": 41,
   "id": "historic-customer",
   "metadata": {},
   "outputs": [],
   "source": [
    "_option_data = '../../data/option_data/'\n",
    "\n",
    "for sym in call_dict:\n",
    "    opt_sym = yf.Ticker(sym)\n",
    "    dates_dict[sym] = opt_sym.options\n",
    "    date_long = opt_sym.options[4]\n",
    "    tmp_ = calls_dict[sym]\n",
    "    tmp_['symbol'] = sym\n",
    "    tmp_['date'] = date_long\n",
    "    df = tmp_[['symbol', 'date', 'contractSymbol', 'strike', 'lastPrice', 'bid', 'strike', 'ask', 'volume',  'impliedVolatility', 'inTheMoney']]\n",
    "    df.columns = ['symbol','date','contract','strike', 'last',  'bid', 'strike', 'ask', 'volume', 'iv', 'in-the-money']\n",
    "    df.to_excel(_option_data + \"call/\"+sym+\".xlsx\")"
   ]
  },
  {
   "cell_type": "code",
   "execution_count": 44,
   "id": "controlling-blanket",
   "metadata": {},
   "outputs": [
    {
     "data": {
      "text/html": [
       "<div>\n",
       "<style scoped>\n",
       "    .dataframe tbody tr th:only-of-type {\n",
       "        vertical-align: middle;\n",
       "    }\n",
       "\n",
       "    .dataframe tbody tr th {\n",
       "        vertical-align: top;\n",
       "    }\n",
       "\n",
       "    .dataframe thead th {\n",
       "        text-align: right;\n",
       "    }\n",
       "</style>\n",
       "<table border=\"1\" class=\"dataframe\">\n",
       "  <thead>\n",
       "    <tr style=\"text-align: right;\">\n",
       "      <th></th>\n",
       "      <th>symbol</th>\n",
       "      <th>date</th>\n",
       "      <th>contract</th>\n",
       "      <th>strike</th>\n",
       "      <th>last</th>\n",
       "      <th>bid</th>\n",
       "      <th>strike</th>\n",
       "      <th>ask</th>\n",
       "      <th>volume</th>\n",
       "      <th>iv</th>\n",
       "      <th>in-the-money</th>\n",
       "    </tr>\n",
       "  </thead>\n",
       "  <tbody>\n",
       "    <tr>\n",
       "      <th>0</th>\n",
       "      <td>AES</td>\n",
       "      <td>2022-01-21</td>\n",
       "      <td>AES230120C00010000</td>\n",
       "      <td>10.0000</td>\n",
       "      <td>14.8000</td>\n",
       "      <td>17.4000</td>\n",
       "      <td>10.0000</td>\n",
       "      <td>20.6000</td>\n",
       "      <td>1</td>\n",
       "      <td>0.8257</td>\n",
       "      <td>True</td>\n",
       "    </tr>\n",
       "    <tr>\n",
       "      <th>1</th>\n",
       "      <td>AES</td>\n",
       "      <td>2022-01-21</td>\n",
       "      <td>AES230120C00013000</td>\n",
       "      <td>13.0000</td>\n",
       "      <td>10.7400</td>\n",
       "      <td>13.8000</td>\n",
       "      <td>13.0000</td>\n",
       "      <td>18.2000</td>\n",
       "      <td>8</td>\n",
       "      <td>0.7373</td>\n",
       "      <td>True</td>\n",
       "    </tr>\n",
       "    <tr>\n",
       "      <th>2</th>\n",
       "      <td>AES</td>\n",
       "      <td>2022-01-21</td>\n",
       "      <td>AES230120C00015000</td>\n",
       "      <td>15.0000</td>\n",
       "      <td>8.8000</td>\n",
       "      <td>13.8000</td>\n",
       "      <td>15.0000</td>\n",
       "      <td>15.4000</td>\n",
       "      <td>2</td>\n",
       "      <td>0.5283</td>\n",
       "      <td>True</td>\n",
       "    </tr>\n",
       "    <tr>\n",
       "      <th>3</th>\n",
       "      <td>AES</td>\n",
       "      <td>2022-01-21</td>\n",
       "      <td>AES230120C00017000</td>\n",
       "      <td>17.0000</td>\n",
       "      <td>9.9100</td>\n",
       "      <td>12.5000</td>\n",
       "      <td>17.0000</td>\n",
       "      <td>13.0000</td>\n",
       "      <td>1</td>\n",
       "      <td>0.3999</td>\n",
       "      <td>True</td>\n",
       "    </tr>\n",
       "    <tr>\n",
       "      <th>4</th>\n",
       "      <td>AES</td>\n",
       "      <td>2022-01-21</td>\n",
       "      <td>AES230120C00020000</td>\n",
       "      <td>20.0000</td>\n",
       "      <td>7.9700</td>\n",
       "      <td>10.3000</td>\n",
       "      <td>20.0000</td>\n",
       "      <td>10.8000</td>\n",
       "      <td>3</td>\n",
       "      <td>0.3903</td>\n",
       "      <td>True</td>\n",
       "    </tr>\n",
       "    <tr>\n",
       "      <th>5</th>\n",
       "      <td>AES</td>\n",
       "      <td>2022-01-21</td>\n",
       "      <td>AES230120C00022000</td>\n",
       "      <td>22.0000</td>\n",
       "      <td>8.8000</td>\n",
       "      <td>9.0000</td>\n",
       "      <td>22.0000</td>\n",
       "      <td>9.5000</td>\n",
       "      <td>1</td>\n",
       "      <td>0.3860</td>\n",
       "      <td>True</td>\n",
       "    </tr>\n",
       "    <tr>\n",
       "      <th>6</th>\n",
       "      <td>AES</td>\n",
       "      <td>2022-01-21</td>\n",
       "      <td>AES230120C00025000</td>\n",
       "      <td>25.0000</td>\n",
       "      <td>7.4100</td>\n",
       "      <td>7.3000</td>\n",
       "      <td>25.0000</td>\n",
       "      <td>7.7000</td>\n",
       "      <td>8</td>\n",
       "      <td>0.3748</td>\n",
       "      <td>True</td>\n",
       "    </tr>\n",
       "    <tr>\n",
       "      <th>7</th>\n",
       "      <td>AES</td>\n",
       "      <td>2022-01-21</td>\n",
       "      <td>AES230120C00027000</td>\n",
       "      <td>27.0000</td>\n",
       "      <td>6.1000</td>\n",
       "      <td>6.2000</td>\n",
       "      <td>27.0000</td>\n",
       "      <td>6.8000</td>\n",
       "      <td>5</td>\n",
       "      <td>0.3784</td>\n",
       "      <td>True</td>\n",
       "    </tr>\n",
       "  </tbody>\n",
       "</table>\n",
       "</div>"
      ],
      "text/plain": [
       "  symbol        date            contract  strike    last     bid  strike  \\\n",
       "0    AES  2022-01-21  AES230120C00010000 10.0000 14.8000 17.4000 10.0000   \n",
       "1    AES  2022-01-21  AES230120C00013000 13.0000 10.7400 13.8000 13.0000   \n",
       "2    AES  2022-01-21  AES230120C00015000 15.0000  8.8000 13.8000 15.0000   \n",
       "3    AES  2022-01-21  AES230120C00017000 17.0000  9.9100 12.5000 17.0000   \n",
       "4    AES  2022-01-21  AES230120C00020000 20.0000  7.9700 10.3000 20.0000   \n",
       "5    AES  2022-01-21  AES230120C00022000 22.0000  8.8000  9.0000 22.0000   \n",
       "6    AES  2022-01-21  AES230120C00025000 25.0000  7.4100  7.3000 25.0000   \n",
       "7    AES  2022-01-21  AES230120C00027000 27.0000  6.1000  6.2000 27.0000   \n",
       "\n",
       "      ask  volume     iv  in-the-money  \n",
       "0 20.6000       1 0.8257          True  \n",
       "1 18.2000       8 0.7373          True  \n",
       "2 15.4000       2 0.5283          True  \n",
       "3 13.0000       1 0.3999          True  \n",
       "4 10.8000       3 0.3903          True  \n",
       "5  9.5000       1 0.3860          True  \n",
       "6  7.7000       8 0.3748          True  \n",
       "7  6.8000       5 0.3784          True  "
      ]
     },
     "execution_count": 44,
     "metadata": {},
     "output_type": "execute_result"
    }
   ],
   "source": [
    "df[df[\"in-the-money\"]==True]\n",
    "#df[df[\"in-the-money\"]==False]"
   ]
  },
  {
   "cell_type": "code",
   "execution_count": null,
   "id": "qualified-waterproof",
   "metadata": {},
   "outputs": [],
   "source": []
  }
 ],
 "metadata": {
  "kernelspec": {
   "display_name": "Python 3",
   "language": "python",
   "name": "python3"
  },
  "language_info": {
   "codemirror_mode": {
    "name": "ipython",
    "version": 3
   },
   "file_extension": ".py",
   "mimetype": "text/x-python",
   "name": "python",
   "nbconvert_exporter": "python",
   "pygments_lexer": "ipython3",
   "version": "3.6.12"
  }
 },
 "nbformat": 4,
 "nbformat_minor": 5
}
