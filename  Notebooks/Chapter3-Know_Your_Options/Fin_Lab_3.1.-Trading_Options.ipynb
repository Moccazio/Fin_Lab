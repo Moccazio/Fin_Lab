{
 "cells": [
  {
   "cell_type": "markdown",
   "id": "removable-legislature",
   "metadata": {},
   "source": [
    "# Trading Options"
   ]
  },
  {
   "cell_type": "markdown",
   "id": "essential-chase",
   "metadata": {},
   "source": [
    "### 1. Historical Volatility and Option Pricing\n",
    "Historical Volatility gauges the fluctuations of underlying securities by measuring the price changes over a predetermined period of time in the past. Therefore the Historical Volatility plays a key role in option trading. Historical volatility can help traders understand a stock's past price movements, which can then be compared to the expected price movements of the stock in the future (via implied volatility or the stock's option prices).\n"
   ]
  },
  {
   "cell_type": "markdown",
   "id": "olive-elements",
   "metadata": {},
   "source": [
    "### 2. The Call & Put Option\n",
    "\n",
    "Buying a **call**/ **put** option gives you the right, but not the obligation to **buy**/ **sell** the underlying security at the given strike price, within a specific time period. A call/ put option payoff at expiration depends on where the underlying price is relative to the **call**/ **put** option strike price. \n"
   ]
  },
  {
   "cell_type": "markdown",
   "id": "catholic-survivor",
   "metadata": {},
   "source": [
    "### 3.  Options Chain\n",
    "\n",
    "An options chain is a listing of all available options contracts for a given security. It shows all listed puts, calls, their expiration, strike prices, and volume and pricing information for a single underlying asset within a given maturity period. The chain will typically be categorized by expiration date and segmented by calls vs. puts. "
   ]
  },
  {
   "cell_type": "code",
   "execution_count": 32,
   "id": "alien-oliver",
   "metadata": {},
   "outputs": [],
   "source": [
    "import time\n",
    "import datetime\n",
    "start = datetime.datetime(2020,2,1)\n",
    "end = datetime.date.today()\n",
    "import yfinance as yf\n",
    "from pandas_datareader.data import Options\n",
    "import pandas as pd\n",
    "pd.options.display.float_format = '{:,.4f}'.format\n",
    "import numpy as np\n",
    "\n",
    "from tqdm import tqdm\n",
    "import warnings\n",
    "warnings.filterwarnings(\"ignore\")\n",
    "\n",
    "%matplotlib inline\n",
    "from IPython.core.pylabtools import figsize\n",
    "figsize(10,6)\n",
    "import matplotlib.pyplot as plt\n",
    "plt.style.use('dark_background')\n",
    "\n",
    "import bs4 as bs\n",
    "from bs4 import BeautifulSoup\n",
    "import requests\n",
    "\n",
    "import sys\n",
    "sys.path.insert(0, '../../scripts/')\n",
    "from database import Stock"
   ]
  },
  {
   "cell_type": "markdown",
   "id": "peaceful-moore",
   "metadata": {},
   "source": [
    "### Stock Data\n",
    " Scrap SP500 Tickers"
   ]
  },
  {
   "cell_type": "code",
   "execution_count": 3,
   "id": "double-amber",
   "metadata": {},
   "outputs": [],
   "source": [
    "def save_sp500_tickers():\n",
    "\n",
    "    resp = requests.get('http://en.wikipedia.org/wiki/List_of_S%26P_500_companies')\n",
    "    soup = bs.BeautifulSoup(resp.text, 'html')\n",
    "    table = soup.find('table', {'class': 'wikitable sortable'})\n",
    "    tickers = []\n",
    "    for row in table.findAll('tr')[1:]:\n",
    "        ticker = row.findAll('td')[0].text\n",
    "        if not '.' in ticker:\n",
    "            tickers.append(ticker.replace('\\n',''))\n",
    "        \n",
    "    return tickers\n",
    "\n",
    "symbols = save_sp500_tickers()"
   ]
  },
  {
   "cell_type": "markdown",
   "id": "accessory-performer",
   "metadata": {},
   "source": [
    " Pick a random example from the sp500 list"
   ]
  },
  {
   "cell_type": "code",
   "execution_count": 4,
   "id": "joined-motion",
   "metadata": {},
   "outputs": [
    {
     "name": "stdout",
     "output_type": "stream",
     "text": [
      "I\n"
     ]
    }
   ],
   "source": [
    "import random\n",
    "ex = random.choice(symbols)\n",
    "print(random.choice(ex))"
   ]
  },
  {
   "cell_type": "markdown",
   "id": "athletic-pathology",
   "metadata": {},
   "source": [
    "### 1. Computing Historical Volatility"
   ]
  },
  {
   "cell_type": "code",
   "execution_count": 5,
   "id": "coupled-motivation",
   "metadata": {},
   "outputs": [],
   "source": [
    "data = Stock(ex, start, end).df"
   ]
  },
  {
   "cell_type": "code",
   "execution_count": 6,
   "id": "bizarre-registration",
   "metadata": {},
   "outputs": [],
   "source": [
    "data=data[['Close']]\n",
    "data['Log Returns'] = np.log(data['Close']/data['Close'].shift(1))"
   ]
  },
  {
   "cell_type": "code",
   "execution_count": 7,
   "id": "according-national",
   "metadata": {},
   "outputs": [],
   "source": [
    "data['20 day Historical Volatility'] = 100*data['Log Returns'].rolling(window=20).std()"
   ]
  },
  {
   "cell_type": "markdown",
   "id": "plastic-convert",
   "metadata": {},
   "source": [
    "### Plot the volatility"
   ]
  },
  {
   "cell_type": "markdown",
   "id": "compact-stranger",
   "metadata": {},
   "source": [
    "and visualise how it changes over the period of one year."
   ]
  },
  {
   "cell_type": "code",
   "execution_count": 8,
   "id": "greatest-symphony",
   "metadata": {},
   "outputs": [
    {
     "data": {
      "image/png": "[encoded data removed]",
      "text/plain": [
       "<Figure size 720x432 with 1 Axes>"
      ]
     },
     "metadata": {},
     "output_type": "display_data"
    }
   ],
   "source": [
    "plt.plot(data['20 day Historical Volatility'], color = 'b', label ='20 day Historical Volatility')\n",
    "plt.legend(loc='best')\n",
    "plt.show()"
   ]
  },
  {
   "cell_type": "markdown",
   "id": "declared-viking",
   "metadata": {},
   "source": [
    "## 2. Call & Put Options\n",
    "**Risk profiles of call and put option buyer and seller**"
   ]
  },
  {
   "cell_type": "markdown",
   "id": "alert-stability",
   "metadata": {},
   "source": [
    "Call payoff"
   ]
  },
  {
   "cell_type": "code",
   "execution_count": 9,
   "id": "breathing-termination",
   "metadata": {},
   "outputs": [],
   "source": [
    "def call_payoff(sT, strike_price, premium):\n",
    "    pnl = np.where(sT > strike_price, sT - strike_price, 0)    \n",
    "    return pnl - premium"
   ]
  },
  {
   "cell_type": "markdown",
   "id": "accredited-crash",
   "metadata": {},
   "source": [
    "Put payoff\n"
   ]
  },
  {
   "cell_type": "code",
   "execution_count": 10,
   "id": "electronic-litigation",
   "metadata": {},
   "outputs": [],
   "source": [
    "def put_payoff (sT, strike_price, premium):\n",
    "    pnl = np.where(sT<strike_price, strike_price - sT, 0)\n",
    "    return pnl - premium"
   ]
  },
  {
   "cell_type": "markdown",
   "id": "confused-philadelphia",
   "metadata": {},
   "source": [
    "### Define parameters"
   ]
  },
  {
   "cell_type": "code",
   "execution_count": 24,
   "id": "joint-fortune",
   "metadata": {},
   "outputs": [
    {
     "data": {
      "text/plain": [
       "Close                          102.3500\n",
       "Log Returns                     -0.0059\n",
       "20 day Historical Volatility     2.5286\n",
       "Name: 2021-02-17 00:00:00, dtype: float64"
      ]
     },
     "execution_count": 24,
     "metadata": {},
     "output_type": "execute_result"
    }
   ],
   "source": [
    "data.iloc[-1]"
   ]
  },
  {
   "cell_type": "code",
   "execution_count": 25,
   "id": "medieval-absolute",
   "metadata": {},
   "outputs": [],
   "source": [
    "# Stock price \n",
    "spot_price = data.iloc[-1].Close\n",
    "\n",
    "# Strike price and cost\n",
    "strike_price =data.iloc[-1].Close\n",
    "premium = 5\n",
    "\n",
    "# Stock price range at the expiration of the call\n",
    "# We have defined range for the stock price at expiry as +/- 10% from spot price\n",
    "# Syntax: numpy.arange(start price, stop price)\n",
    "sT = np.arange(0.9*spot_price,1.1*spot_price) "
   ]
  },
  {
   "cell_type": "markdown",
   "id": "single-surge",
   "metadata": {},
   "source": [
    "## Call"
   ]
  },
  {
   "cell_type": "markdown",
   "id": "private-slovak",
   "metadata": {},
   "source": [
    "### Buyer Payoff"
   ]
  },
  {
   "cell_type": "code",
   "execution_count": 26,
   "id": "encouraging-venue",
   "metadata": {},
   "outputs": [
    {
     "data": {
      "image/png": "[encoded data removed]",
      "text/plain": [
       "<Figure size 576x360 with 1 Axes>"
      ]
     },
     "metadata": {},
     "output_type": "display_data"
    }
   ],
   "source": [
    "payoff_long_call = call_payoff(sT, strike_price, premium)\n",
    "# Plot the graph\n",
    "fig, ax = plt.subplots(figsize=(8,5))\n",
    "ax.spines['bottom'].set_position('zero')\n",
    "ax.plot(sT,payoff_long_call,label='Call option buyer payoff')\n",
    "plt.xlabel(ex+' Stock Price')\n",
    "plt.ylabel('Profit and loss')\n",
    "plt.legend()\n",
    "plt.show()"
   ]
  },
  {
   "cell_type": "markdown",
   "id": "fresh-warehouse",
   "metadata": {},
   "source": [
    "What do you observe?\n",
    "\n",
    "- The loss to the call option buyer is restricted to the extent of the premium he has paid.\n",
    "\n",
    "- The profit from this call option seems to increase linearly as and when the stock price starts to move above the strike price. Therefore, the higher the spot price goes from the strike price, the higher is the profit.\n",
    "\n",
    "- Though the call option is supposed to make a profit when the spot price moves above the strike price, the call option buyer first needs to recover the premium he has paid."
   ]
  },
  {
   "cell_type": "markdown",
   "id": "focal-knowing",
   "metadata": {},
   "source": [
    "### Seller Payoff"
   ]
  },
  {
   "cell_type": "markdown",
   "id": "intended-manitoba",
   "metadata": {},
   "source": [
    "To get the payoff graph for option seller, we have multiplied the payoff of option buyer by -1.0 as when the option buyer makes the profit, the option seller will lose the exact same amount and vice-versa.\n"
   ]
  },
  {
   "cell_type": "code",
   "execution_count": 28,
   "id": "african-subcommittee",
   "metadata": {},
   "outputs": [
    {
     "data": {
      "image/png": "[encoded data removed]",
      "text/plain": [
       "<Figure size 576x360 with 1 Axes>"
      ]
     },
     "metadata": {},
     "output_type": "display_data"
    }
   ],
   "source": [
    "payoff_short_call = payoff_long_call * -1.0\n",
    "# Plot\n",
    "fig, ax = plt.subplots(figsize=(8,5))\n",
    "ax.spines['bottom'].set_position('zero')\n",
    "ax.plot(sT,payoff_short_call,label='Short Strike Call',color='r')\n",
    "plt.xlabel(ex+' Stock Price')\n",
    "plt.ylabel('Profit and loss')\n",
    "plt.legend()\n",
    "plt.show()"
   ]
  },
  {
   "cell_type": "markdown",
   "id": "activated-ceiling",
   "metadata": {},
   "source": [
    "The call option seller payoff looks like a mirror image of the call option buyer payoff. "
   ]
  },
  {
   "cell_type": "markdown",
   "id": "resident-distinction",
   "metadata": {},
   "source": [
    "## Put Option\n"
   ]
  },
  {
   "cell_type": "markdown",
   "id": "korean-patrick",
   "metadata": {},
   "source": [
    "### Buyer Payoff\n"
   ]
  },
  {
   "cell_type": "code",
   "execution_count": 29,
   "id": "preceding-indonesia",
   "metadata": {},
   "outputs": [
    {
     "data": {
      "image/png": "[encoded data removed]",
      "text/plain": [
       "<Figure size 576x360 with 1 Axes>"
      ]
     },
     "metadata": {},
     "output_type": "display_data"
    }
   ],
   "source": [
    "payoff_long_put = put_payoff(sT, strike_price, premium)\n",
    "# Plot the graph\n",
    "fig, ax = plt.subplots(figsize=(8,5))\n",
    "ax.spines['bottom'].set_position('zero')\n",
    "ax.plot(sT,payoff_long_put,label='Put option buyer payoff')\n",
    "plt.xlabel(ex+' Stock Price')\n",
    "plt.ylabel('Profit and loss')\n",
    "plt.legend()\n",
    "plt.show()"
   ]
  },
  {
   "cell_type": "markdown",
   "id": "sound-denmark",
   "metadata": {},
   "source": [
    "What do you observe?\n",
    "\n",
    "- The loss to the put option buyer is restricted to the extent of the premium he has paid.\n",
    "\n",
    "- The profit from this put option seems to increase linearly as and when Infosys starts to move below the strike price. Therefore, the higher the spot price goes from the strike price, the higher is the profit.\n",
    "\n",
    "- Though the put option is supposed to make a profit when the spot price moves below the strike price, the put option buyer first needs to recover the premium he has paid."
   ]
  },
  {
   "cell_type": "markdown",
   "id": "toxic-family",
   "metadata": {},
   "source": [
    "### Seller Payoff"
   ]
  },
  {
   "cell_type": "markdown",
   "id": "sensitive-atlas",
   "metadata": {},
   "source": [
    "To get the payoff graph for option seller, we have multiplied the payoff of option buyer by -1.0, as the option buyer makes the profit, the option seller will lose the exact same amount and vice-versa."
   ]
  },
  {
   "cell_type": "code",
   "execution_count": 30,
   "id": "combined-burlington",
   "metadata": {},
   "outputs": [
    {
     "data": {
      "image/png": "[encoded data removed]",
      "text/plain": [
       "<Figure size 576x360 with 1 Axes>"
      ]
     },
     "metadata": {},
     "output_type": "display_data"
    }
   ],
   "source": [
    "payoff_short_put = payoff_long_put * -1.0\n",
    "# Plot\n",
    "fig, ax = plt.subplots(figsize=(8,5))\n",
    "ax.spines['bottom'].set_position('zero')\n",
    "ax.plot(sT,payoff_short_put,label='Put option seller payoff',color='r')\n",
    "plt.xlabel(ex+' Stock Price')\n",
    "plt.ylabel('Profit and loss')\n",
    "plt.legend()\n",
    "plt.show()"
   ]
  },
  {
   "cell_type": "markdown",
   "id": "english-iraqi",
   "metadata": {},
   "source": [
    "The put option seller payoff looks like a mirror image of the put option buyer payoff. "
   ]
  },
  {
   "cell_type": "markdown",
   "id": "overhead-label",
   "metadata": {},
   "source": [
    "Therefore, you sell a put or a call option only when your view is that the underlying asset will not fall beyond the strike price."
   ]
  },
  {
   "cell_type": "markdown",
   "id": "proper-adapter",
   "metadata": {},
   "source": [
    "## 3. Options Chain"
   ]
  },
  {
   "cell_type": "markdown",
   "id": "romance-christian",
   "metadata": {},
   "source": [
    "So now we get real data for the first 10 stocks we scraped from the sp500"
   ]
  },
  {
   "cell_type": "code",
   "execution_count": 33,
   "id": "synthetic-batman",
   "metadata": {},
   "outputs": [
    {
     "name": "stderr",
     "output_type": "stream",
     "text": [
      "  0%|          | 0/10 [00:00<?, ?it/s]"
     ]
    },
    {
     "name": "stdout",
     "output_type": "stream",
     "text": [
      "--------------------------------------------------\n",
      "downloading MMM ...\n"
     ]
    },
    {
     "name": "stderr",
     "output_type": "stream",
     "text": [
      " 10%|█         | 1/10 [00:00<00:07,  1.16it/s]"
     ]
    },
    {
     "name": "stdout",
     "output_type": "stream",
     "text": [
      "MMM complete\n",
      "\n",
      "--------------------------------------------------\n",
      "downloading ABT ...\n"
     ]
    },
    {
     "name": "stderr",
     "output_type": "stream",
     "text": [
      " 20%|██        | 2/10 [00:01<00:05,  1.39it/s]"
     ]
    },
    {
     "name": "stdout",
     "output_type": "stream",
     "text": [
      "ABT complete\n",
      "\n",
      "--------------------------------------------------\n",
      "downloading ABBV ...\n"
     ]
    },
    {
     "name": "stderr",
     "output_type": "stream",
     "text": [
      " 30%|███       | 3/10 [00:02<00:04,  1.41it/s]"
     ]
    },
    {
     "name": "stdout",
     "output_type": "stream",
     "text": [
      "ABBV complete\n",
      "\n",
      "--------------------------------------------------\n",
      "downloading ABMD ...\n"
     ]
    },
    {
     "name": "stderr",
     "output_type": "stream",
     "text": [
      " 40%|████      | 4/10 [00:02<00:04,  1.38it/s]"
     ]
    },
    {
     "name": "stdout",
     "output_type": "stream",
     "text": [
      "ABMD complete\n",
      "\n",
      "--------------------------------------------------\n",
      "downloading ACN ...\n"
     ]
    },
    {
     "name": "stderr",
     "output_type": "stream",
     "text": [
      " 50%|█████     | 5/10 [00:03<00:03,  1.35it/s]"
     ]
    },
    {
     "name": "stdout",
     "output_type": "stream",
     "text": [
      "ACN complete\n",
      "\n",
      "--------------------------------------------------\n",
      "downloading ATVI ...\n"
     ]
    },
    {
     "name": "stderr",
     "output_type": "stream",
     "text": [
      " 60%|██████    | 6/10 [00:04<00:02,  1.35it/s]"
     ]
    },
    {
     "name": "stdout",
     "output_type": "stream",
     "text": [
      "ATVI complete\n",
      "\n",
      "--------------------------------------------------\n",
      "downloading ADBE ...\n"
     ]
    },
    {
     "name": "stderr",
     "output_type": "stream",
     "text": [
      " 70%|███████   | 7/10 [00:05<00:02,  1.34it/s]"
     ]
    },
    {
     "name": "stdout",
     "output_type": "stream",
     "text": [
      "ADBE complete\n",
      "\n",
      "--------------------------------------------------\n",
      "downloading AMD ...\n"
     ]
    },
    {
     "name": "stderr",
     "output_type": "stream",
     "text": [
      " 80%|████████  | 8/10 [00:05<00:01,  1.36it/s]"
     ]
    },
    {
     "name": "stdout",
     "output_type": "stream",
     "text": [
      "AMD complete\n",
      "\n",
      "--------------------------------------------------\n",
      "downloading AAP ...\n"
     ]
    },
    {
     "name": "stderr",
     "output_type": "stream",
     "text": [
      " 90%|█████████ | 9/10 [00:06<00:00,  1.34it/s]"
     ]
    },
    {
     "name": "stdout",
     "output_type": "stream",
     "text": [
      "AAP complete\n",
      "\n",
      "--------------------------------------------------\n",
      "downloading AES ...\n"
     ]
    },
    {
     "name": "stderr",
     "output_type": "stream",
     "text": [
      "100%|██████████| 10/10 [00:07<00:00,  1.35it/s]"
     ]
    },
    {
     "name": "stdout",
     "output_type": "stream",
     "text": [
      "AES complete\n",
      "\n"
     ]
    },
    {
     "name": "stderr",
     "output_type": "stream",
     "text": [
      "\n"
     ]
    }
   ],
   "source": [
    "# ------------------------------------------------------------------------------\n",
    "# run aggregation func\n",
    "# ------------------------------------------------------------------------------\n",
    "errors = []\n",
    "\n",
    "call_dict = {}\n",
    "put_dict = {}\n",
    "date_dict = {}\n",
    "\n",
    "for sym in tqdm(symbols[0:10]):\n",
    "    print('-'*50)\n",
    "    print('downloading {} ...'.format(sym))\n",
    "    try:\n",
    "        opt_sym = yf.Ticker(sym)\n",
    "        date_dict[sym] = opt_sym.options\n",
    "        date_long = opt_sym.options[-1]\n",
    "        #date_short = opt_sym.options[1]\n",
    "        opt = opt_sym.option_chain(date_long)\n",
    "        call_dict[sym] = opt.calls\n",
    "        put_dict[sym] = opt.puts\n",
    "    except Exception as e:\n",
    "        errors.append(sym)\n",
    "        print('{} error: {}'.format(sym, e))\n",
    "        continue\n",
    "    else:\n",
    "        print('{} complete'.format(sym))\n",
    "        print()"
   ]
  },
  {
   "cell_type": "code",
   "execution_count": 36,
   "id": "heard-seller",
   "metadata": {},
   "outputs": [],
   "source": [
    "_option_data = '../../data/option_data/'\n",
    "\n",
    "dates_dict = {}\n",
    "\n",
    "for sym in call_dict:\n",
    "    opt_sym = yf.Ticker(sym)\n",
    "    dates_dict[sym] = opt_sym.options\n",
    "    date_long = opt_sym.options[4]\n",
    "    tmp_ = call_dict[sym]\n",
    "    tmp_['symbol'] = sym\n",
    "    tmp_['date'] = date_long\n",
    "    df = tmp_[['symbol', 'date', 'contractSymbol', 'strike', 'lastPrice', 'bid', 'strike', 'ask', 'volume',  'impliedVolatility', 'inTheMoney']]\n",
    "    df.columns = ['symbol','date','contract','strike', 'last',  'bid', 'strike', 'ask', 'volume', 'iv', 'in-the-money']\n",
    "    \n",
    "    df.to_excel(_option_data + \"call/\"+sym+\".xlsx\")"
   ]
  },
  {
   "cell_type": "markdown",
   "id": "suited-requirement",
   "metadata": {},
   "source": [
    "### Set \"in-the-money\" as a filter"
   ]
  },
  {
   "cell_type": "code",
   "execution_count": 39,
   "id": "bottom-computer",
   "metadata": {},
   "outputs": [
    {
     "data": {
      "text/html": [
       "<div>\n",
       "<style scoped>\n",
       "    .dataframe tbody tr th:only-of-type {\n",
       "        vertical-align: middle;\n",
       "    }\n",
       "\n",
       "    .dataframe tbody tr th {\n",
       "        vertical-align: top;\n",
       "    }\n",
       "\n",
       "    .dataframe thead th {\n",
       "        text-align: right;\n",
       "    }\n",
       "</style>\n",
       "<table border=\"1\" class=\"dataframe\">\n",
       "  <thead>\n",
       "    <tr style=\"text-align: right;\">\n",
       "      <th></th>\n",
       "      <th>symbol</th>\n",
       "      <th>date</th>\n",
       "      <th>contract</th>\n",
       "      <th>strike</th>\n",
       "      <th>last</th>\n",
       "      <th>bid</th>\n",
       "      <th>strike</th>\n",
       "      <th>ask</th>\n",
       "      <th>volume</th>\n",
       "      <th>iv</th>\n",
       "      <th>in-the-money</th>\n",
       "    </tr>\n",
       "  </thead>\n",
       "  <tbody>\n",
       "    <tr>\n",
       "      <th>0</th>\n",
       "      <td>AES</td>\n",
       "      <td>2022-01-21</td>\n",
       "      <td>AES230120C00010000</td>\n",
       "      <td>10.0000</td>\n",
       "      <td>14.8000</td>\n",
       "      <td>0.0000</td>\n",
       "      <td>10.0000</td>\n",
       "      <td>0.0000</td>\n",
       "      <td>1</td>\n",
       "      <td>0.0000</td>\n",
       "      <td>True</td>\n",
       "    </tr>\n",
       "    <tr>\n",
       "      <th>1</th>\n",
       "      <td>AES</td>\n",
       "      <td>2022-01-21</td>\n",
       "      <td>AES230120C00013000</td>\n",
       "      <td>13.0000</td>\n",
       "      <td>10.7400</td>\n",
       "      <td>0.0000</td>\n",
       "      <td>13.0000</td>\n",
       "      <td>0.0000</td>\n",
       "      <td>8</td>\n",
       "      <td>0.0000</td>\n",
       "      <td>True</td>\n",
       "    </tr>\n",
       "    <tr>\n",
       "      <th>2</th>\n",
       "      <td>AES</td>\n",
       "      <td>2022-01-21</td>\n",
       "      <td>AES230120C00015000</td>\n",
       "      <td>15.0000</td>\n",
       "      <td>8.8000</td>\n",
       "      <td>0.0000</td>\n",
       "      <td>15.0000</td>\n",
       "      <td>0.0000</td>\n",
       "      <td>2</td>\n",
       "      <td>0.0000</td>\n",
       "      <td>True</td>\n",
       "    </tr>\n",
       "    <tr>\n",
       "      <th>3</th>\n",
       "      <td>AES</td>\n",
       "      <td>2022-01-21</td>\n",
       "      <td>AES230120C00017000</td>\n",
       "      <td>17.0000</td>\n",
       "      <td>9.9100</td>\n",
       "      <td>0.0000</td>\n",
       "      <td>17.0000</td>\n",
       "      <td>0.0000</td>\n",
       "      <td>1</td>\n",
       "      <td>0.0000</td>\n",
       "      <td>True</td>\n",
       "    </tr>\n",
       "    <tr>\n",
       "      <th>4</th>\n",
       "      <td>AES</td>\n",
       "      <td>2022-01-21</td>\n",
       "      <td>AES230120C00020000</td>\n",
       "      <td>20.0000</td>\n",
       "      <td>7.9700</td>\n",
       "      <td>0.0000</td>\n",
       "      <td>20.0000</td>\n",
       "      <td>0.0000</td>\n",
       "      <td>3</td>\n",
       "      <td>0.0000</td>\n",
       "      <td>True</td>\n",
       "    </tr>\n",
       "    <tr>\n",
       "      <th>5</th>\n",
       "      <td>AES</td>\n",
       "      <td>2022-01-21</td>\n",
       "      <td>AES230120C00022000</td>\n",
       "      <td>22.0000</td>\n",
       "      <td>9.0700</td>\n",
       "      <td>0.0000</td>\n",
       "      <td>22.0000</td>\n",
       "      <td>0.0000</td>\n",
       "      <td>13</td>\n",
       "      <td>0.0000</td>\n",
       "      <td>True</td>\n",
       "    </tr>\n",
       "    <tr>\n",
       "      <th>6</th>\n",
       "      <td>AES</td>\n",
       "      <td>2022-01-21</td>\n",
       "      <td>AES230120C00025000</td>\n",
       "      <td>25.0000</td>\n",
       "      <td>7.3000</td>\n",
       "      <td>0.0000</td>\n",
       "      <td>25.0000</td>\n",
       "      <td>0.0000</td>\n",
       "      <td>8</td>\n",
       "      <td>0.0000</td>\n",
       "      <td>True</td>\n",
       "    </tr>\n",
       "    <tr>\n",
       "      <th>7</th>\n",
       "      <td>AES</td>\n",
       "      <td>2022-01-21</td>\n",
       "      <td>AES230120C00027000</td>\n",
       "      <td>27.0000</td>\n",
       "      <td>6.7000</td>\n",
       "      <td>0.0000</td>\n",
       "      <td>27.0000</td>\n",
       "      <td>0.0000</td>\n",
       "      <td>70</td>\n",
       "      <td>0.0000</td>\n",
       "      <td>True</td>\n",
       "    </tr>\n",
       "  </tbody>\n",
       "</table>\n",
       "</div>"
      ],
      "text/plain": [
       "  symbol        date            contract  strike    last    bid  strike  \\\n",
       "0    AES  2022-01-21  AES230120C00010000 10.0000 14.8000 0.0000 10.0000   \n",
       "1    AES  2022-01-21  AES230120C00013000 13.0000 10.7400 0.0000 13.0000   \n",
       "2    AES  2022-01-21  AES230120C00015000 15.0000  8.8000 0.0000 15.0000   \n",
       "3    AES  2022-01-21  AES230120C00017000 17.0000  9.9100 0.0000 17.0000   \n",
       "4    AES  2022-01-21  AES230120C00020000 20.0000  7.9700 0.0000 20.0000   \n",
       "5    AES  2022-01-21  AES230120C00022000 22.0000  9.0700 0.0000 22.0000   \n",
       "6    AES  2022-01-21  AES230120C00025000 25.0000  7.3000 0.0000 25.0000   \n",
       "7    AES  2022-01-21  AES230120C00027000 27.0000  6.7000 0.0000 27.0000   \n",
       "\n",
       "     ask  volume     iv  in-the-money  \n",
       "0 0.0000       1 0.0000          True  \n",
       "1 0.0000       8 0.0000          True  \n",
       "2 0.0000       2 0.0000          True  \n",
       "3 0.0000       1 0.0000          True  \n",
       "4 0.0000       3 0.0000          True  \n",
       "5 0.0000      13 0.0000          True  \n",
       "6 0.0000       8 0.0000          True  \n",
       "7 0.0000      70 0.0000          True  "
      ]
     },
     "execution_count": 39,
     "metadata": {},
     "output_type": "execute_result"
    }
   ],
   "source": [
    "df[df[\"in-the-money\"]==True]"
   ]
  },
  {
   "cell_type": "code",
   "execution_count": 40,
   "id": "organizational-support",
   "metadata": {},
   "outputs": [
    {
     "data": {
      "text/html": [
       "<div>\n",
       "<style scoped>\n",
       "    .dataframe tbody tr th:only-of-type {\n",
       "        vertical-align: middle;\n",
       "    }\n",
       "\n",
       "    .dataframe tbody tr th {\n",
       "        vertical-align: top;\n",
       "    }\n",
       "\n",
       "    .dataframe thead th {\n",
       "        text-align: right;\n",
       "    }\n",
       "</style>\n",
       "<table border=\"1\" class=\"dataframe\">\n",
       "  <thead>\n",
       "    <tr style=\"text-align: right;\">\n",
       "      <th></th>\n",
       "      <th>symbol</th>\n",
       "      <th>date</th>\n",
       "      <th>contract</th>\n",
       "      <th>strike</th>\n",
       "      <th>last</th>\n",
       "      <th>bid</th>\n",
       "      <th>strike</th>\n",
       "      <th>ask</th>\n",
       "      <th>volume</th>\n",
       "      <th>iv</th>\n",
       "      <th>in-the-money</th>\n",
       "    </tr>\n",
       "  </thead>\n",
       "  <tbody>\n",
       "    <tr>\n",
       "      <th>8</th>\n",
       "      <td>AES</td>\n",
       "      <td>2022-01-21</td>\n",
       "      <td>AES230120C00030000</td>\n",
       "      <td>30.0000</td>\n",
       "      <td>5.1000</td>\n",
       "      <td>0.0000</td>\n",
       "      <td>30.0000</td>\n",
       "      <td>0.0000</td>\n",
       "      <td>2</td>\n",
       "      <td>0.0078</td>\n",
       "      <td>False</td>\n",
       "    </tr>\n",
       "    <tr>\n",
       "      <th>9</th>\n",
       "      <td>AES</td>\n",
       "      <td>2022-01-21</td>\n",
       "      <td>AES230120C00035000</td>\n",
       "      <td>35.0000</td>\n",
       "      <td>2.6500</td>\n",
       "      <td>0.0000</td>\n",
       "      <td>35.0000</td>\n",
       "      <td>0.0000</td>\n",
       "      <td>3</td>\n",
       "      <td>0.0313</td>\n",
       "      <td>False</td>\n",
       "    </tr>\n",
       "    <tr>\n",
       "      <th>10</th>\n",
       "      <td>AES</td>\n",
       "      <td>2022-01-21</td>\n",
       "      <td>AES230120C00040000</td>\n",
       "      <td>40.0000</td>\n",
       "      <td>2.2500</td>\n",
       "      <td>0.0000</td>\n",
       "      <td>40.0000</td>\n",
       "      <td>0.0000</td>\n",
       "      <td>1</td>\n",
       "      <td>0.0625</td>\n",
       "      <td>False</td>\n",
       "    </tr>\n",
       "  </tbody>\n",
       "</table>\n",
       "</div>"
      ],
      "text/plain": [
       "   symbol        date            contract  strike   last    bid  strike  \\\n",
       "8     AES  2022-01-21  AES230120C00030000 30.0000 5.1000 0.0000 30.0000   \n",
       "9     AES  2022-01-21  AES230120C00035000 35.0000 2.6500 0.0000 35.0000   \n",
       "10    AES  2022-01-21  AES230120C00040000 40.0000 2.2500 0.0000 40.0000   \n",
       "\n",
       "      ask  volume     iv  in-the-money  \n",
       "8  0.0000       2 0.0078         False  \n",
       "9  0.0000       3 0.0313         False  \n",
       "10 0.0000       1 0.0625         False  "
      ]
     },
     "execution_count": 40,
     "metadata": {},
     "output_type": "execute_result"
    }
   ],
   "source": [
    "df[df[\"in-the-money\"]==False]"
   ]
  },
  {
   "cell_type": "code",
   "execution_count": null,
   "id": "jewish-tradition",
   "metadata": {},
   "outputs": [],
   "source": []
  }
 ],
 "metadata": {
  "kernelspec": {
   "display_name": "Python 3",
   "language": "python",
   "name": "python3"
  },
  "language_info": {
   "codemirror_mode": {
    "name": "ipython",
    "version": 3
   },
   "file_extension": ".py",
   "mimetype": "text/x-python",
   "name": "python",
   "nbconvert_exporter": "python",
   "pygments_lexer": "ipython3",
   "version": "3.6.12"
  }
 },
 "nbformat": 4,
 "nbformat_minor": 5
}
